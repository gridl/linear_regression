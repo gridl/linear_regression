{
  "nbformat": 4,
  "nbformat_minor": 0,
  "metadata": {
    "colab": {
      "name": "LinearRegression.ipynb",
      "version": "0.3.2",
      "provenance": [],
      "collapsed_sections": []
    },
    "kernelspec": {
      "display_name": "Python 3",
      "language": "python",
      "name": "python3"
    }
  },
  "cells": [
    {
      "metadata": {
        "id": "kZxw1NxLvetf",
        "colab_type": "text"
      },
      "cell_type": "markdown",
      "source": [
        "### Linear Regression with TensorFlow (graph based)\n",
        "\n",
        "This notebook demonstrates linear regression using plain old tensorflow working on graphs."
      ]
    },
    {
      "metadata": {
        "id": "ZkDvlnMjJxRe",
        "colab_type": "code",
        "colab": {}
      },
      "cell_type": "code",
      "source": [
        "import tensorflow as tf\n",
        "import numpy as np\n",
        "import matplotlib.pyplot as plt"
      ],
      "execution_count": 0,
      "outputs": []
    },
    {
      "metadata": {
        "id": "S2oerRzlJ-Gn",
        "colab_type": "code",
        "colab": {
          "base_uri": "https://localhost:8080/",
          "height": 34
        },
        "outputId": "4582f07e-47bc-4962-e210-eabdbf99c2d2"
      },
      "cell_type": "code",
      "source": [
        "tf.__version__"
      ],
      "execution_count": 2,
      "outputs": [
        {
          "output_type": "execute_result",
          "data": {
            "text/plain": [
              "'1.10.1'"
            ]
          },
          "metadata": {
            "tags": []
          },
          "execution_count": 2
        }
      ]
    },
    {
      "metadata": {
        "id": "zACb9J35KP92",
        "colab_type": "code",
        "colab": {}
      },
      "cell_type": "code",
      "source": [
        "x = [22, 41, 52, 23, 41, 54, 24, 46, 56, 27, 47, 57, 28, 48, 58,  9, \n",
        "     49, 59, 30, 49, 63, 32, 50, 67, 33, 51, 71, 35, 51, 77, 40, 51, 81]\n",
        "y = [131, 139, 128, 128, 171, 105, 116, 137, 145, 106, 111, 141, 114, \n",
        "     115, 153, 123, 133, 157, 117, 128, 155, 122, 183,\n",
        "     176,  99, 130, 172, 121, 133, 178, 147, 144, 217]\n",
        "x = np.asarray(x, np.float32)\n",
        "y = np.asarray(y, np.float32)"
      ],
      "execution_count": 0,
      "outputs": []
    },
    {
      "metadata": {
        "id": "31ChFooBynN-",
        "colab_type": "text"
      },
      "cell_type": "markdown",
      "source": [
        "### Numpy code for the RSS"
      ]
    },
    {
      "metadata": {
        "id": "1nZUhIievety",
        "colab_type": "code",
        "colab": {
          "base_uri": "https://localhost:8080/",
          "height": 347
        },
        "outputId": "3a188bdc-55be-4b7e-be4f-06e510d0008d"
      },
      "cell_type": "code",
      "source": [
        "a = 1\n",
        "b = 100\n",
        "plt.scatter(x,y)\n",
        "plt.plot(x,(a*x)+b);"
      ],
      "execution_count": 4,
      "outputs": [
        {
          "output_type": "display_data",
          "data": {
            "image/png": "[encoded data removed]",
            "text/plain": [
              "<matplotlib.figure.Figure at 0x7f8d51d58c50>"
            ]
          },
          "metadata": {
            "tags": []
          }
        }
      ]
    },
    {
      "metadata": {
        "id": "QuP_vsyGvet3",
        "colab_type": "text"
      },
      "cell_type": "markdown",
      "source": [
        "### TASK: Calculate the RSS using numpy\n",
        "\n",
        "How good is the fit? Calculate the sum of all quadratic differences?\n",
        "\n",
        "$$\n",
        "\\hat{y} = a*x + b \\\\\n",
        "RSS = \\sum_i (\\hat{y_i} - y_i)^2\n",
        "$$\n",
        "\n",
        "The result should be 13469.0"
      ]
    },
    {
      "metadata": {
        "id": "D5YWmtpKv_KL",
        "colab_type": "code",
        "colab": {
          "base_uri": "https://localhost:8080/",
          "height": 34
        },
        "outputId": "f9940d0f-ceda-466b-ae3a-0a48616d6961"
      },
      "cell_type": "code",
      "source": [
        "y_hat = a*x + b\n",
        "r = (y_hat - y)\n",
        "np.sum(r**2)"
      ],
      "execution_count": 5,
      "outputs": [
        {
          "output_type": "execute_result",
          "data": {
            "text/plain": [
              "13469.0"
            ]
          },
          "metadata": {
            "tags": []
          },
          "execution_count": 5
        }
      ]
    },
    {
      "metadata": {
        "id": "CeebUFHa35Om",
        "colab_type": "text"
      },
      "cell_type": "markdown",
      "source": [
        "### TASK: Calculate the RSS using TensorFlow"
      ]
    },
    {
      "metadata": {
        "id": "EMfjoFpV0b4n",
        "colab_type": "code",
        "colab": {}
      },
      "cell_type": "code",
      "source": [
        "# Defining the graph (construction phase)\n",
        "tf.reset_default_graph()\n",
        "a  = tf.Variable(1.0) #We can optimize them later\n",
        "b = tf.Variable(100.0)\n",
        "x_ = tf.constant(x) #These are fixed, we could also use placeholders\n",
        "y_ = tf.constant(y)\n",
        "y_hat_ = a*x_ + b\n",
        "r_ = y_ - y_hat_\n",
        "rss = tf.reduce_sum(tf.square(y_ - y_hat_))\n",
        "init_op = tf.global_variables_initializer() \n",
        "# Initialization ('symbolic'), this creates a new operation in the graph. Which\n",
        "# initializes the graph. We call this later, when we have a concrete realization of the graph"
      ],
      "execution_count": 0,
      "outputs": []
    },
    {
      "metadata": {
        "id": "5WPxq0WSxkx6",
        "colab_type": "code",
        "colab": {
          "base_uri": "https://localhost:8080/",
          "height": 34
        },
        "outputId": "fa2b6c17-82ec-4125-9ba9-10ae998b5ad4"
      },
      "cell_type": "code",
      "source": [
        "with tf.Session() as sess: \n",
        "    sess.run(init_op) #Doing the initialization on the concrete realization of the graph\n",
        "    rss_val = sess.run(rss)\n",
        "    print(rss_val)"
      ],
      "execution_count": 7,
      "outputs": [
        {
          "output_type": "stream",
          "text": [
            "13469.0\n"
          ],
          "name": "stdout"
        }
      ]
    },
    {
      "metadata": {
        "id": "JoSIz0E73JnD",
        "colab_type": "code",
        "colab": {
          "base_uri": "https://localhost:8080/",
          "height": 187
        },
        "outputId": "2162bd9c-443c-4c19-bc3a-f4723e04a319"
      },
      "cell_type": "code",
      "source": [
        "# Let's add an optimizer to the loss \n",
        "loss = rss #This is usually called loss and we want to minimize the loss.\n",
        "train_op = tf.train.GradientDescentOptimizer(learning_rate=0.00001).minimize(loss) \n",
        "init_op = tf.global_variables_initializer()\n",
        "with tf.Session() as sess: \n",
        "    sess.run(init_op) #Doing the initialization on the concrete realization of the graph\n",
        "    for i in range(100000):\n",
        "      _,a_val, b_val, loss_val = sess.run([train_op,a,b, loss])\n",
        "      if (i % 10000 == 0): #Trick not to print so often\n",
        "        print(a_val, b_val, loss_val)"
      ],
      "execution_count": 8,
      "outputs": [
        {
          "output_type": "stream",
          "text": [
            "0.79056 99.99506 13469.0\n",
            "0.9907443 93.59946 11652.306\n",
            "1.0500584 90.5226 11553.3955\n",
            "1.0785762 89.04327 11530.518\n",
            "1.0922973 88.33149 11525.226\n",
            "1.0988524 87.991455 11524.004\n",
            "1.1020921 87.823395 11523.712\n",
            "1.1035628 87.7471 11523.65\n",
            "1.1040179 87.723495 11523.639\n",
            "1.1040179 87.723495 11523.639\n"
          ],
          "name": "stdout"
        }
      ]
    },
    {
      "metadata": {
        "id": "kW3GwUWhveuM",
        "colab_type": "code",
        "colab": {
          "base_uri": "https://localhost:8080/",
          "height": 364
        },
        "outputId": "cb880303-615e-4001-a001-b98f1f96c69a"
      },
      "cell_type": "code",
      "source": [
        "plt.scatter(x,y)\n",
        "plt.plot(x,(1*x)+100, c='b') # Initial guess\n",
        "plt.plot(x,(a_val*x)+b_val, c='g')   # After optimizing"
      ],
      "execution_count": 9,
      "outputs": [
        {
          "output_type": "execute_result",
          "data": {
            "text/plain": [
              "[<matplotlib.lines.Line2D at 0x7f8d4c367cf8>]"
            ]
          },
          "metadata": {
            "tags": []
          },
          "execution_count": 9
        },
        {
          "output_type": "display_data",
          "data": {
            "image/png": "[encoded data removed]",
            "text/plain": [
              "<matplotlib.figure.Figure at 0x7f8d4f429898>"
            ]
          },
          "metadata": {
            "tags": []
          }
        }
      ]
    },
    {
      "metadata": {
        "id": "HRoylB5gwPxv",
        "colab_type": "text"
      },
      "cell_type": "markdown",
      "source": [
        "### Task: Optimize the optimizer\n",
        "\n",
        "* Change the learning rate to very high values and see what happens\n",
        "* Change the optimizer to ```train_op = tf.train.AdamOptimizer().minimize(loss)``` and see what happens."
      ]
    },
    {
      "metadata": {
        "id": "uYNRo3eFvSQp",
        "colab_type": "code",
        "colab": {
          "base_uri": "https://localhost:8080/",
          "height": 527
        },
        "outputId": "7707a9b3-2e13-4ca9-af8a-f130493a76f4"
      },
      "cell_type": "code",
      "source": [
        "loss = rss #This is usually called loss and we want to minimize the loss.\n",
        "train_op = tf.train.GradientDescentOptimizer(learning_rate=1000).minimize(loss)\n",
        "train_op = tf.train.AdamOptimizer().minimize(loss)\n",
        "init_op = tf.global_variables_initializer()\n",
        "with tf.Session() as sess: \n",
        "    sess.run(init_op) #Doing the initialization on the concrete realization of the graph\n",
        "    for i in range(30000):\n",
        "      _,a_val, b_val, loss_val = sess.run([train_op,a,b, loss])\n",
        "      if (i % 1000 == 0): #Trick not to print so often\n",
        "        print(a_val, b_val, loss_val)"
      ],
      "execution_count": 10,
      "outputs": [
        {
          "output_type": "stream",
          "text": [
            "0.999 99.999 13469.0\n",
            "0.8779933 99.43335 12030.176\n",
            "0.892712 98.67535 11967.005\n",
            "0.9093408 97.81647 11900.501\n",
            "0.9265598 96.92567 11837.229\n",
            "0.94391197 96.02699 11779.283\n",
            "0.961121 95.13515 11727.628\n",
            "0.9781326 94.25318 11682.266\n",
            "0.9948875 93.38432 11643.153\n",
            "1.0113126 92.53244 11610.168\n",
            "1.0273103 91.70266 11583.146\n",
            "1.0427604 90.90123 11561.838\n",
            "1.0574712 90.13813 11545.919\n",
            "1.0711579 89.428116 11534.936\n",
            "1.0833731 88.794426 11528.252\n",
            "1.0934955 88.27219 11524.951\n",
            "1.1004643 87.906685 11523.832\n",
            "1.1040039 87.72413 11523.639\n",
            "1.1049325 87.675964 11523.632\n",
            "1.1049932 87.671585 11523.629\n",
            "1.1050217 87.67144 11523.629\n",
            "1.1050218 87.671425 11523.627\n",
            "1.1050215 87.671425 11523.628\n",
            "1.1050217 87.67143 11523.629\n",
            "1.1050224 87.67142 11523.627\n",
            "1.1050215 87.67142 11523.629\n",
            "1.1050218 87.671425 11523.629\n",
            "1.105006 87.671425 11523.629\n",
            "1.1050217 87.67142 11523.629\n",
            "1.1050217 87.671425 11523.629\n"
          ],
          "name": "stdout"
        }
      ]
    },
    {
      "metadata": {
        "id": "B3Eoy1ut-zHc",
        "colab_type": "text"
      },
      "cell_type": "markdown",
      "source": [
        "### Fitting with scikit-learn\n",
        "\n",
        "Linear regression is usually not fitted using a Gradient-Descent, there are specialliezed methods for that. "
      ]
    },
    {
      "metadata": {
        "id": "iWl2mBL0-wer",
        "colab_type": "code",
        "colab": {
          "base_uri": "https://localhost:8080/",
          "height": 34
        },
        "outputId": "f97e19ec-02c2-4d27-ed33-0eccbd18c8ac"
      },
      "cell_type": "code",
      "source": [
        "from sklearn import datasets, linear_model\n",
        "from sklearn.metrics import mean_squared_error, r2_score\n",
        "\n",
        "regr = linear_model.LinearRegression()\n",
        "regr.fit(x.reshape(-1,1), y)\n",
        "pred = regr.predict(x.reshape(-1,1))\n",
        "np.sum((pred - y)**2)"
      ],
      "execution_count": 11,
      "outputs": [
        {
          "output_type": "execute_result",
          "data": {
            "text/plain": [
              "11523.626"
            ]
          },
          "metadata": {
            "tags": []
          },
          "execution_count": 11
        }
      ]
    },
    {
      "metadata": {
        "id": "oods2dr8_1zO",
        "colab_type": "code",
        "colab": {
          "base_uri": "https://localhost:8080/",
          "height": 34
        },
        "outputId": "2d86a5b5-56e1-42bc-99f0-9046cca27561"
      },
      "cell_type": "code",
      "source": [
        "regr.get_params(True)"
      ],
      "execution_count": 12,
      "outputs": [
        {
          "output_type": "execute_result",
          "data": {
            "text/plain": [
              "{'copy_X': True, 'fit_intercept': True, 'n_jobs': 1, 'normalize': False}"
            ]
          },
          "metadata": {
            "tags": []
          },
          "execution_count": 12
        }
      ]
    },
    {
      "metadata": {
        "id": "x-h6JG70AdIg",
        "colab_type": "text"
      },
      "cell_type": "markdown",
      "source": [
        "## Keras code for the RSS\n",
        "\n",
        "If you build more complex models, its usually easier to use a more high level languages than TensorFlow like e.g. keras. Here, we show you how to use keras for linear regression."
      ]
    },
    {
      "metadata": {
        "id": "jRbnAqZc68kc",
        "colab_type": "code",
        "colab": {}
      },
      "cell_type": "code",
      "source": [
        "from tensorflow import keras"
      ],
      "execution_count": 0,
      "outputs": []
    },
    {
      "metadata": {
        "id": "8xELydr6Af5f",
        "colab_type": "code",
        "colab": {
          "base_uri": "https://localhost:8080/",
          "height": 34
        },
        "outputId": "b1a47033-9671-4739-e151-97346766b29a"
      },
      "cell_type": "code",
      "source": [
        "from keras.models import Sequential\n",
        "from keras.layers import Dense, Activation\n",
        "from keras import optimizers"
      ],
      "execution_count": 14,
      "outputs": [
        {
          "output_type": "stream",
          "text": [
            "Using TensorFlow backend.\n"
          ],
          "name": "stderr"
        }
      ]
    },
    {
      "metadata": {
        "id": "DatMTnI-7gey",
        "colab_type": "code",
        "colab": {}
      },
      "cell_type": "code",
      "source": [
        "model = Sequential()\n",
        "model.add(Dense(1,input_dim=1, activation='linear'))\n",
        "\n",
        "opt = optimizers.SGD(lr=0.0001, momentum=0.0, decay=0.0, nesterov=False)\n",
        "#keras.optimizers.TFOptimizer(optimizer)\n",
        "#opt = optimizers.RMSprop(lr=0.01)\n",
        "\n",
        "model.compile(loss='mean_squared_error',\n",
        "              optimizer=opt)\n"
      ],
      "execution_count": 0,
      "outputs": []
    },
    {
      "metadata": {
        "id": "6Bt1v76Q7gub",
        "colab_type": "code",
        "colab": {
          "base_uri": "https://localhost:8080/",
          "height": 170
        },
        "outputId": "c3dbba06-8552-445b-a9ff-7a1909d6fb41"
      },
      "cell_type": "code",
      "source": [
        "model.summary()"
      ],
      "execution_count": 16,
      "outputs": [
        {
          "output_type": "stream",
          "text": [
            "_________________________________________________________________\n",
            "Layer (type)                 Output Shape              Param #   \n",
            "=================================================================\n",
            "dense_1 (Dense)              (None, 1)                 2         \n",
            "=================================================================\n",
            "Total params: 2\n",
            "Trainable params: 2\n",
            "Non-trainable params: 0\n",
            "_________________________________________________________________\n"
          ],
          "name": "stdout"
        }
      ]
    },
    {
      "metadata": {
        "id": "P9kC1uCq7g8q",
        "colab_type": "code",
        "colab": {}
      },
      "cell_type": "code",
      "source": [
        "# Quite a hack to set the starting values in keras \n",
        "#(usually not needed so much in DL)\n",
        "a_ini=np.array(1,dtype=\"float32\",ndmin=2)\n",
        "b_ini=np.array(100,dtype=\"float32\",ndmin=1)\n",
        "model.set_weights([a_ini,b_ini])"
      ],
      "execution_count": 0,
      "outputs": []
    },
    {
      "metadata": {
        "id": "iXcp3QXs7oOz",
        "colab_type": "code",
        "colab": {
          "base_uri": "https://localhost:8080/",
          "height": 34
        },
        "outputId": "4ad9abfa-a199-4134-dfb0-6f6e613b011d"
      },
      "cell_type": "code",
      "source": [
        "a_keras,b_keras=model.get_weights()\n",
        "print(\"slope=\",a_keras[0][0],\"intercept=\",b_keras[0])"
      ],
      "execution_count": 18,
      "outputs": [
        {
          "output_type": "stream",
          "text": [
            "slope= 1.0 intercept= 100.0\n"
          ],
          "name": "stdout"
        }
      ]
    },
    {
      "metadata": {
        "id": "s3Lr40BN7tzS",
        "colab_type": "code",
        "colab": {
          "base_uri": "https://localhost:8080/",
          "height": 527
        },
        "outputId": "9935ad60-87de-4f03-c576-058c731e8397"
      },
      "cell_type": "code",
      "source": [
        "for i in range(0,30000):\n",
        "    model.fit(x=x,y=y,batch_size=33,\n",
        "                    epochs=1,\n",
        "                    verbose = 0)\n",
        "    a,b=model.get_weights()\n",
        "    if i % 1000==0:\n",
        "        RSS=np.sum(np.square(model.predict(x).reshape(len(x),)-y))\n",
        "        print(\"Epoch:\",i,\"slope=\",a[0][0],\"intercept=\",b[0],\"RSS=\",RSS)"
      ],
      "execution_count": 19,
      "outputs": [
        {
          "output_type": "stream",
          "text": [
            "Epoch: 0 slope= 0.93653333 intercept= 99.998505 RSS= 12457.342\n",
            "Epoch: 1000 slope= 0.87262154 intercept= 99.72697 RSS= 12055.715\n",
            "Epoch: 2000 slope= 0.87772596 intercept= 99.46218 RSS= 12032.596\n",
            "Epoch: 3000 slope= 0.8827264 intercept= 99.20278 RSS= 12010.451\n",
            "Epoch: 4000 slope= 0.88758457 intercept= 98.95077 RSS= 11989.405\n",
            "Epoch: 5000 slope= 0.89234966 intercept= 98.70359 RSS= 11969.215\n",
            "Epoch: 6000 slope= 0.89702773 intercept= 98.46092 RSS= 11949.825\n",
            "Epoch: 7000 slope= 0.9015869 intercept= 98.22441 RSS= 11931.345\n",
            "Epoch: 8000 slope= 0.9060376 intercept= 97.99354 RSS= 11913.703\n",
            "Epoch: 9000 slope= 0.9104153 intercept= 97.76646 RSS= 11896.728\n",
            "Epoch: 10000 slope= 0.91468024 intercept= 97.545204 RSS= 11880.553\n",
            "Epoch: 11000 slope= 0.9188454 intercept= 97.32915 RSS= 11865.105\n",
            "Epoch: 12000 slope= 0.92295325 intercept= 97.116066 RSS= 11850.2\n",
            "Epoch: 13000 slope= 0.92692405 intercept= 96.91007 RSS= 11836.112\n",
            "Epoch: 14000 slope= 0.9308362 intercept= 96.70714 RSS= 11822.533\n",
            "Epoch: 15000 slope= 0.93465996 intercept= 96.50877 RSS= 11809.553\n",
            "Epoch: 16000 slope= 0.938386 intercept= 96.3155 RSS= 11797.186\n",
            "Epoch: 17000 slope= 0.94206274 intercept= 96.12476 RSS= 11785.244\n",
            "Epoch: 18000 slope= 0.94561267 intercept= 95.94062 RSS= 11773.973\n",
            "Epoch: 19000 slope= 0.9491423 intercept= 95.757515 RSS= 11763.009\n",
            "Epoch: 20000 slope= 0.9525274 intercept= 95.581924 RSS= 11752.725\n",
            "Epoch: 21000 slope= 0.9559066 intercept= 95.40664 RSS= 11742.685\n",
            "Epoch: 22000 slope= 0.9591421 intercept= 95.23879 RSS= 11733.282\n",
            "Epoch: 23000 slope= 0.9623776 intercept= 95.070946 RSS= 11724.084\n",
            "Epoch: 24000 slope= 0.9654699 intercept= 94.910545 RSS= 11715.486\n",
            "Epoch: 25000 slope= 0.9685583 intercept= 94.75033 RSS= 11707.088\n",
            "Epoch: 26000 slope= 0.97152513 intercept= 94.596436 RSS= 11699.199\n",
            "Epoch: 27000 slope= 0.9744665 intercept= 94.44385 RSS= 11691.546\n",
            "Epoch: 28000 slope= 0.97732383 intercept= 94.29564 RSS= 11684.278\n",
            "Epoch: 29000 slope= 0.9801181 intercept= 94.15068 RSS= 11677.322\n"
          ],
          "name": "stdout"
        }
      ]
    },
    {
      "metadata": {
        "id": "h9oUQirmv1HM",
        "colab_type": "text"
      },
      "cell_type": "markdown",
      "source": [
        "### Extending the linear model"
      ]
    },
    {
      "metadata": {
        "id": "S1DolTRcv5OW",
        "colab_type": "code",
        "colab": {}
      },
      "cell_type": "code",
      "source": [
        "m2 = Sequential()\n",
        "m2.add(Dense(10,input_dim=1, activation='relu'))\n",
        "#m2.add(Dense(10,input_dim=1, activation='relu'))\n",
        "m2.add(Dense(1,input_dim=1, activation='linear'))\n",
        "opt = optimizers.Adam()\n",
        "m2.compile(loss='mean_squared_error', optimizer=opt)"
      ],
      "execution_count": 0,
      "outputs": []
    },
    {
      "metadata": {
        "id": "KEJEB5E-wDax",
        "colab_type": "code",
        "colab": {
          "base_uri": "https://localhost:8080/",
          "height": 204
        },
        "outputId": "48fcceea-d15f-4af7-dfad-b3df68b16e91"
      },
      "cell_type": "code",
      "source": [
        "m2.summary()"
      ],
      "execution_count": 21,
      "outputs": [
        {
          "output_type": "stream",
          "text": [
            "_________________________________________________________________\n",
            "Layer (type)                 Output Shape              Param #   \n",
            "=================================================================\n",
            "dense_2 (Dense)              (None, 10)                20        \n",
            "_________________________________________________________________\n",
            "dense_3 (Dense)              (None, 1)                 11        \n",
            "=================================================================\n",
            "Total params: 31\n",
            "Trainable params: 31\n",
            "Non-trainable params: 0\n",
            "_________________________________________________________________\n"
          ],
          "name": "stdout"
        }
      ]
    },
    {
      "metadata": {
        "id": "tye7EJlewiaj",
        "colab_type": "code",
        "colab": {
          "base_uri": "https://localhost:8080/",
          "height": 527
        },
        "outputId": "302abb73-2642-4c30-d66d-5cac85384ac7"
      },
      "cell_type": "code",
      "source": [
        "for i in range(0,30000):\n",
        "    m2.fit(x=x,y=y,batch_size=33,\n",
        "                    epochs=1,\n",
        "                    verbose = 0)\n",
        "    if i % 1000==0:\n",
        "        RSS=np.sum(np.square(m2.predict(x).reshape(len(x),)-y))\n",
        "        print(\"Epoch:\",i, \"RSS=\",RSS)"
      ],
      "execution_count": 22,
      "outputs": [
        {
          "output_type": "stream",
          "text": [
            "Epoch: 0 RSS= 917306.56\n",
            "Epoch: 1000 RSS= 90407.0\n",
            "Epoch: 2000 RSS= 37574.152\n",
            "Epoch: 3000 RSS= 37097.14\n",
            "Epoch: 4000 RSS= 36393.562\n",
            "Epoch: 5000 RSS= 35440.387\n",
            "Epoch: 6000 RSS= 34212.938\n",
            "Epoch: 7000 RSS= 32556.057\n",
            "Epoch: 8000 RSS= 29832.037\n",
            "Epoch: 9000 RSS= 25232.45\n",
            "Epoch: 10000 RSS= 19455.787\n",
            "Epoch: 11000 RSS= 14656.673\n",
            "Epoch: 12000 RSS= 12189.36\n",
            "Epoch: 13000 RSS= 11569.833\n",
            "Epoch: 14000 RSS= 11524.078\n",
            "Epoch: 15000 RSS= 11523.634\n",
            "Epoch: 16000 RSS= 11523.627\n",
            "Epoch: 17000 RSS= 11523.627\n",
            "Epoch: 18000 RSS= 11523.63\n",
            "Epoch: 19000 RSS= 11523.629\n",
            "Epoch: 20000 RSS= 11523.636\n",
            "Epoch: 21000 RSS= 11523.629\n",
            "Epoch: 22000 RSS= 11523.631\n",
            "Epoch: 23000 RSS= 11523.629\n",
            "Epoch: 24000 RSS= 11523.627\n",
            "Epoch: 25000 RSS= 11523.631\n",
            "Epoch: 26000 RSS= 11523.632\n",
            "Epoch: 27000 RSS= 11523.628\n",
            "Epoch: 28000 RSS= 11523.633\n",
            "Epoch: 29000 RSS= 11523.632\n"
          ],
          "name": "stdout"
        }
      ]
    },
    {
      "metadata": {
        "id": "OOOJJRGzwmrB",
        "colab_type": "code",
        "colab": {
          "base_uri": "https://localhost:8080/",
          "height": 367
        },
        "outputId": "66f2708e-2fb8-4701-847b-4b0682a2bc13"
      },
      "cell_type": "code",
      "source": [
        "plt.scatter(x,y)\n",
        "plt.plot(x,(a_val*x)+b_val)\n",
        "x2 = np.linspace(0,90,100)\n",
        "plt.plot(x2,model.predict(x2),'.')\n",
        "plt.plot(x2,m2.predict(x2),'.r')"
      ],
      "execution_count": 23,
      "outputs": [
        {
          "output_type": "execute_result",
          "data": {
            "text/plain": [
              "[<matplotlib.lines.Line2D at 0x7f8d48100828>]"
            ]
          },
          "metadata": {
            "tags": []
          },
          "execution_count": 23
        },
        {
          "output_type": "display_data",
          "data": {
            "image/png": "[encoded data removed]",
            "text/plain": [
              "<matplotlib.figure.Figure at 0x7f8d4842a470>"
            ]
          },
          "metadata": {
            "tags": []
          }
        }
      ]
    },
    {
      "metadata": {
        "id": "J83O8dkTwpli",
        "colab_type": "code",
        "colab": {}
      },
      "cell_type": "code",
      "source": [
        ""
      ],
      "execution_count": 0,
      "outputs": []
    }
  ]
}