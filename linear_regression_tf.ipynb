{
 "cells": [
  {
   "cell_type": "markdown",
   "metadata": {},
   "source": [
    "### Linear Regression with TensorFlow (graph based)\n",
    "\n",
    "This notebook demonstrates linear regression using plain old tensorflow working on graphs."
   ]
  },
  {
   "cell_type": "code",
   "execution_count": 1,
   "metadata": {
    "colab": {
     "base_uri": "https://localhost:8080/",
     "height": 34
    },
    "colab_type": "code",
    "executionInfo": {
     "elapsed": 2196,
     "status": "ok",
     "timestamp": 1536334983268,
     "user": {
      "displayName": "Elvis Murina",
      "photoUrl": "https://lh3.googleusercontent.com/a/default-user=s128",
      "userId": "112218520851140656375"
     },
     "user_tz": -120
    },
    "id": "ZkDvlnMjJxRe",
    "outputId": "946c73e7-c342-4074-a15c-6524da397168"
   },
   "outputs": [],
   "source": [
    "import tensorflow as tf\n",
    "import numpy as np\n",
    "import matplotlib.pyplot as plt"
   ]
  },
  {
   "cell_type": "code",
   "execution_count": 2,
   "metadata": {
    "colab": {
     "base_uri": "https://localhost:8080/",
     "height": 34
    },
    "colab_type": "code",
    "executionInfo": {
     "elapsed": 554,
     "status": "ok",
     "timestamp": 1536334984156,
     "user": {
      "displayName": "Elvis Murina",
      "photoUrl": "https://lh3.googleusercontent.com/a/default-user=s128",
      "userId": "112218520851140656375"
     },
     "user_tz": -120
    },
    "id": "S2oerRzlJ-Gn",
    "outputId": "11121efa-66fd-49c9-ddae-eee5406628d8"
   },
   "outputs": [
    {
     "data": {
      "text/plain": [
       "'1.10.1'"
      ]
     },
     "execution_count": 2,
     "metadata": {},
     "output_type": "execute_result"
    }
   ],
   "source": [
    "tf.__version__"
   ]
  },
  {
   "cell_type": "code",
   "execution_count": 3,
   "metadata": {
    "colab": {},
    "colab_type": "code",
    "id": "zACb9J35KP92"
   },
   "outputs": [],
   "source": [
    "x = [22, 41, 52, 23, 41, 54, 24, 46, 56, 27, 47, 57, 28, 48, 58,  9, \n",
    "     49, 59, 30, 49, 63, 32, 50, 67, 33, 51, 71, 35, 51, 77, 40, 51, 81]\n",
    "y = [131, 139, 128, 128, 171, 105, 116, 137, 145, 106, 111, 141, 114, \n",
    "     115, 153, 123, 133, 157, 117, 128, 155, 122, 183,\n",
    "     176,  99, 130, 172, 121, 133, 178, 147, 144, 217]\n",
    "x = np.asarray(x, np.float32)\n",
    "y = np.asarray(y, np.float32)"
   ]
  },
  {
   "cell_type": "markdown",
   "metadata": {
    "colab_type": "text",
    "id": "31ChFooBynN-"
   },
   "source": [
    "### Numpy code for the RSS"
   ]
  },
  {
   "cell_type": "code",
   "execution_count": 6,
   "metadata": {},
   "outputs": [
    {
     "data": {
      "image/png": "[encoded data removed]",
      "text/plain": [
       "<Figure size 432x288 with 1 Axes>"
      ]
     },
     "metadata": {},
     "output_type": "display_data"
    }
   ],
   "source": [
    "a = 1\n",
    "b = 100\n",
    "plt.scatter(x,y)\n",
    "plt.plot(x,(a*x)+b);"
   ]
  },
  {
   "cell_type": "markdown",
   "metadata": {},
   "source": [
    "### TASK: Calculate the RSS using numpy\n",
    "\n",
    "How good is the fit? Calculate the sum of all quadratic differences?\n",
    "\n",
    "$$\n",
    "\\hat{y} = a*x + b \\\\\n",
    "RSS = \\sum_i (\\hat{y_i} - y_i)^2\n",
    "$$\n",
    "\n",
    "The result should be 13469.0"
   ]
  },
  {
   "cell_type": "code",
   "execution_count": 7,
   "metadata": {
    "colab": {
     "base_uri": "https://localhost:8080/",
     "height": 34
    },
    "colab_type": "code",
    "executionInfo": {
     "elapsed": 515,
     "status": "ok",
     "timestamp": 1536334985433,
     "user": {
      "displayName": "Elvis Murina",
      "photoUrl": "https://lh3.googleusercontent.com/a/default-user=s128",
      "userId": "112218520851140656375"
     },
     "user_tz": -120
    },
    "id": "D5YWmtpKv_KL",
    "outputId": "bc7fcab6-6000-4623-fdd2-50034bbceca7"
   },
   "outputs": [
    {
     "data": {
      "text/plain": [
       "13469.0"
      ]
     },
     "execution_count": 7,
     "metadata": {},
     "output_type": "execute_result"
    }
   ],
   "source": [
    "y_hat = a*x + b\n",
    "r = (y_hat - y)\n",
    "np.sum(r**2)"
   ]
  },
  {
   "cell_type": "markdown",
   "metadata": {
    "colab_type": "text",
    "id": "CeebUFHa35Om"
   },
   "source": [
    "### TASK: Calculate the RSS using TensorFlow"
   ]
  },
  {
   "cell_type": "code",
   "execution_count": 8,
   "metadata": {
    "colab": {},
    "colab_type": "code",
    "id": "EMfjoFpV0b4n"
   },
   "outputs": [],
   "source": [
    "# Defining the graph (construction phase)\n",
    "tf.reset_default_graph()\n",
    "a  = tf.Variable(1.0) #We can optimize them later\n",
    "b = tf.Variable(100.0)\n",
    "x_ = tf.constant(x) #These are fixed, we could also use placeholders\n",
    "y_ = tf.constant(y)\n",
    "y_hat_ = a*x_ + b\n",
    "r_ = y_ - y_hat_\n",
    "rss = tf.reduce_sum(tf.square(y_ - y_hat_))\n",
    "init_op = tf.global_variables_initializer() \n",
    "# Initialization ('symbolic'), this creates a new operation in the graph. Which\n",
    "# initializes the graph. We call this later, when we have a concrete realization of the graph"
   ]
  },
  {
   "cell_type": "code",
   "execution_count": 9,
   "metadata": {
    "colab": {
     "base_uri": "https://localhost:8080/",
     "height": 34
    },
    "colab_type": "code",
    "executionInfo": {
     "elapsed": 484,
     "status": "ok",
     "timestamp": 1536334986723,
     "user": {
      "displayName": "Elvis Murina",
      "photoUrl": "https://lh3.googleusercontent.com/a/default-user=s128",
      "userId": "112218520851140656375"
     },
     "user_tz": -120
    },
    "id": "5WPxq0WSxkx6",
    "outputId": "e8feab24-955d-4c96-f6cd-b58b72b348ba"
   },
   "outputs": [
    {
     "name": "stdout",
     "output_type": "stream",
     "text": [
      "13469.0\n"
     ]
    }
   ],
   "source": [
    "with tf.Session() as sess: \n",
    "    sess.run(init_op) #Doing the initialization on the concrete realization of the graph\n",
    "    rss_val = sess.run(rss)\n",
    "    print(rss_val)"
   ]
  },
  {
   "cell_type": "code",
   "execution_count": 10,
   "metadata": {
    "colab": {
     "base_uri": "https://localhost:8080/",
     "height": 185
    },
    "colab_type": "code",
    "executionInfo": {
     "elapsed": 30662,
     "status": "ok",
     "timestamp": 1536335017535,
     "user": {
      "displayName": "Elvis Murina",
      "photoUrl": "https://lh3.googleusercontent.com/a/default-user=s128",
      "userId": "112218520851140656375"
     },
     "user_tz": -120
    },
    "id": "JoSIz0E73JnD",
    "outputId": "66ba03bb-314a-435c-c4db-cf38f28a88aa"
   },
   "outputs": [
    {
     "name": "stdout",
     "output_type": "stream",
     "text": [
      "0.79056 99.99506 13469.0\n",
      "0.9907443 93.59946 11652.306\n",
      "1.0500584 90.5226 11553.3955\n",
      "1.0785762 89.04327 11530.518\n",
      "1.0922973 88.33149 11525.226\n",
      "1.0988524 87.991455 11524.004\n",
      "1.1020921 87.823395 11523.712\n",
      "1.1035628 87.7471 11523.65\n",
      "1.1040179 87.723495 11523.639\n",
      "1.1040179 87.723495 11523.639\n"
     ]
    }
   ],
   "source": [
    "# Let's add an optimizer to the loss \n",
    "loss = rss #This is usually called loss and we want to minimize the loss.\n",
    "train_op = tf.train.GradientDescentOptimizer(learning_rate=0.00001).minimize(loss) \n",
    "init_op = tf.global_variables_initializer()\n",
    "with tf.Session() as sess: \n",
    "    sess.run(init_op) #Doing the initialization on the concrete realization of the graph\n",
    "    for i in range(100000):\n",
    "      _,a_val, b_val, loss_val = sess.run([train_op,a,b, loss])\n",
    "      if (i % 10000 == 0): #Trick not to print so often\n",
    "        print(a_val, b_val, loss_val)"
   ]
  },
  {
   "cell_type": "code",
   "execution_count": 12,
   "metadata": {},
   "outputs": [
    {
     "data": {
      "text/plain": [
       "[<matplotlib.lines.Line2D at 0x7f3430d28828>]"
      ]
     },
     "execution_count": 12,
     "metadata": {},
     "output_type": "execute_result"
    },
    {
     "data": {
      "image/png": "[encoded data removed]",
      "text/plain": [
       "<Figure size 432x288 with 1 Axes>"
      ]
     },
     "metadata": {},
     "output_type": "display_data"
    }
   ],
   "source": [
    "plt.scatter(x,y)\n",
    "plt.plot(x,(1*x)+100, c='b') # Initial guess\n",
    "plt.plot(x,(a_val*x)+b_val, c='g')   # After optimizing"
   ]
  },
  {
   "cell_type": "markdown",
   "metadata": {
    "colab": {
     "base_uri": "https://localhost:8080/",
     "height": 185
    },
    "colab_type": "code",
    "executionInfo": {
     "elapsed": 33184,
     "status": "ok",
     "timestamp": 1536335050757,
     "user": {
      "displayName": "Elvis Murina",
      "photoUrl": "https://lh3.googleusercontent.com/a/default-user=s128",
      "userId": "112218520851140656375"
     },
     "user_tz": -120
    },
    "id": "LxMcy1iYqwYE",
    "outputId": "68dd1b0e-d6b1-4949-9669-ce6c014c8a11"
   },
   "source": [
    "### Task: Optimize the optimizer\n",
    "\n",
    "* Change the learning rate to very high values and see what happens\n",
    "* Change the optimizer to ```train_op = tf.train.AdamOptimizer().minimize(loss)``` and see what happens."
   ]
  },
  {
   "cell_type": "code",
   "execution_count": 19,
   "metadata": {
    "colab": {
     "base_uri": "https://localhost:8080/",
     "height": 185
    },
    "colab_type": "code",
    "executionInfo": {
     "elapsed": 32425,
     "status": "ok",
     "timestamp": 1536335083224,
     "user": {
      "displayName": "Elvis Murina",
      "photoUrl": "https://lh3.googleusercontent.com/a/default-user=s128",
      "userId": "112218520851140656375"
     },
     "user_tz": -120
    },
    "id": "uYNRo3eFvSQp",
    "outputId": "2cf15c93-94b1-4eda-9c20-6e59c385902f"
   },
   "outputs": [
    {
     "name": "stdout",
     "output_type": "stream",
     "text": [
      "0.999 99.999 13469.0\n",
      "0.8779933 99.43335 12030.176\n",
      "0.892712 98.67535 11967.005\n",
      "0.9093408 97.81647 11900.501\n",
      "0.9265598 96.92567 11837.229\n",
      "0.94391197 96.02699 11779.283\n",
      "0.961121 95.13515 11727.628\n",
      "0.9781326 94.25318 11682.266\n",
      "0.9948875 93.38432 11643.153\n",
      "1.0113126 92.53244 11610.168\n"
     ]
    }
   ],
   "source": [
    "loss = rss #This is usually called loss and we want to minimize the loss.\n",
    "train_op = tf.train.GradientDescentOptimizer(learning_rate=1000).minimize(loss)\n",
    "train_op = tf.train.AdamOptimizer().minimize(loss)\n",
    "init_op = tf.global_variables_initializer()\n",
    "with tf.Session() as sess: \n",
    "    sess.run(init_op) #Doing the initialization on the concrete realization of the graph\n",
    "    for i in range(10000):\n",
    "      _,a_val, b_val, loss_val = sess.run([train_op,a,b, loss])\n",
    "      if (i % 1000 == 0): #Trick not to print so often\n",
    "        print(a_val, b_val, loss_val)"
   ]
  },
  {
   "cell_type": "markdown",
   "metadata": {
    "colab_type": "text",
    "id": "x-h6JG70AdIg"
   },
   "source": [
    "## Keras code for the RSS\n",
    "\n",
    "If you build more complex models, its usually easier to use a more high level languages than TensorFlow like e.g. keras. Here, we show you how to use keras for linear regression."
   ]
  },
  {
   "cell_type": "code",
   "execution_count": 20,
   "metadata": {
    "colab": {},
    "colab_type": "code",
    "id": "jRbnAqZc68kc"
   },
   "outputs": [],
   "source": [
    "from tensorflow import keras"
   ]
  },
  {
   "cell_type": "code",
   "execution_count": 21,
   "metadata": {
    "colab": {},
    "colab_type": "code",
    "id": "8xELydr6Af5f"
   },
   "outputs": [
    {
     "name": "stderr",
     "output_type": "stream",
     "text": [
      "Using TensorFlow backend.\n"
     ]
    }
   ],
   "source": [
    "from keras.models import Sequential\n",
    "from keras.layers import Dense, Activation\n",
    "from keras import optimizers"
   ]
  },
  {
   "cell_type": "code",
   "execution_count": 22,
   "metadata": {
    "colab": {},
    "colab_type": "code",
    "id": "DatMTnI-7gey"
   },
   "outputs": [],
   "source": [
    "model = Sequential()\n",
    "model.add(Dense(1,input_dim=1))\n",
    "model.add(Activation('linear'))\n",
    "\n",
    "opt = optimizers.SGD(lr=0.0001, momentum=0.0, decay=0.0, nesterov=False)\n",
    "#keras.optimizers.TFOptimizer(optimizer)\n",
    "#opt = optimizers.RMSprop(lr=0.01)\n",
    "\n",
    "model.compile(loss='mean_squared_error',\n",
    "              optimizer=opt)\n"
   ]
  },
  {
   "cell_type": "code",
   "execution_count": 23,
   "metadata": {
    "colab": {
     "base_uri": "https://localhost:8080/",
     "height": 202
    },
    "colab_type": "code",
    "executionInfo": {
     "elapsed": 485,
     "status": "ok",
     "timestamp": 1536338886633,
     "user": {
      "displayName": "Elvis Murina",
      "photoUrl": "https://lh3.googleusercontent.com/a/default-user=s128",
      "userId": "112218520851140656375"
     },
     "user_tz": -120
    },
    "id": "6Bt1v76Q7gub",
    "outputId": "d4de7bae-c890-4816-f6a9-1c2b7f1efb4d"
   },
   "outputs": [
    {
     "name": "stdout",
     "output_type": "stream",
     "text": [
      "_________________________________________________________________\n",
      "Layer (type)                 Output Shape              Param #   \n",
      "=================================================================\n",
      "dense_1 (Dense)              (None, 1)                 2         \n",
      "_________________________________________________________________\n",
      "activation_1 (Activation)    (None, 1)                 0         \n",
      "=================================================================\n",
      "Total params: 2\n",
      "Trainable params: 2\n",
      "Non-trainable params: 0\n",
      "_________________________________________________________________\n"
     ]
    }
   ],
   "source": [
    "model.summary()"
   ]
  },
  {
   "cell_type": "code",
   "execution_count": 24,
   "metadata": {
    "colab": {},
    "colab_type": "code",
    "id": "P9kC1uCq7g8q"
   },
   "outputs": [],
   "source": [
    "# Quite a hack to set the starting values in keras \n",
    "#(usually not needed so much in DL)\n",
    "a_ini=np.array(1,dtype=\"float32\",ndmin=2)\n",
    "b_ini=np.array(100,dtype=\"float32\",ndmin=1)\n",
    "model.set_weights([a_ini,b_ini])"
   ]
  },
  {
   "cell_type": "code",
   "execution_count": 25,
   "metadata": {
    "colab": {
     "base_uri": "https://localhost:8080/",
     "height": 34
    },
    "colab_type": "code",
    "executionInfo": {
     "elapsed": 518,
     "status": "ok",
     "timestamp": 1536338889605,
     "user": {
      "displayName": "Elvis Murina",
      "photoUrl": "https://lh3.googleusercontent.com/a/default-user=s128",
      "userId": "112218520851140656375"
     },
     "user_tz": -120
    },
    "id": "iXcp3QXs7oOz",
    "outputId": "6faabe7a-2faa-4e44-d501-70431ca4e485"
   },
   "outputs": [
    {
     "name": "stdout",
     "output_type": "stream",
     "text": [
      "slope= 1.0 intercept= 100.0\n"
     ]
    }
   ],
   "source": [
    "a_keras,b_keras=model.get_weights()\n",
    "print(\"slope=\",a_keras[0][0],\"intercept=\",b_keras[0])"
   ]
  },
  {
   "cell_type": "code",
   "execution_count": 26,
   "metadata": {
    "colab": {
     "base_uri": "https://localhost:8080/",
     "height": 521
    },
    "colab_type": "code",
    "executionInfo": {
     "elapsed": 37915,
     "status": "ok",
     "timestamp": 1536338928557,
     "user": {
      "displayName": "Elvis Murina",
      "photoUrl": "https://lh3.googleusercontent.com/a/default-user=s128",
      "userId": "112218520851140656375"
     },
     "user_tz": -120
    },
    "id": "s3Lr40BN7tzS",
    "outputId": "de0a9663-73b0-48eb-bc66-e41c4ecd2299"
   },
   "outputs": [
    {
     "name": "stdout",
     "output_type": "stream",
     "text": [
      "Epoch: 0 slope= 0.93653333 intercept= 99.998505 RSS= 12457.342\n",
      "Epoch: 1000 slope= 0.87262154 intercept= 99.72697 RSS= 12055.715\n",
      "Epoch: 2000 slope= 0.877726 intercept= 99.46218 RSS= 12032.602\n",
      "Epoch: 3000 slope= 0.8827264 intercept= 99.20278 RSS= 12010.451\n",
      "Epoch: 4000 slope= 0.8875846 intercept= 98.95077 RSS= 11989.403\n",
      "Epoch: 5000 slope= 0.89234966 intercept= 98.70359 RSS= 11969.215\n",
      "Epoch: 6000 slope= 0.89702773 intercept= 98.46092 RSS= 11949.825\n",
      "Epoch: 7000 slope= 0.9015869 intercept= 98.22441 RSS= 11931.345\n",
      "Epoch: 8000 slope= 0.9060376 intercept= 97.99354 RSS= 11913.703\n",
      "Epoch: 9000 slope= 0.9104153 intercept= 97.76646 RSS= 11896.728\n",
      "Epoch: 10000 slope= 0.91468024 intercept= 97.545204 RSS= 11880.553\n",
      "Epoch: 11000 slope= 0.9188454 intercept= 97.32915 RSS= 11865.105\n",
      "Epoch: 12000 slope= 0.9229532 intercept= 97.116066 RSS= 11850.2\n",
      "Epoch: 13000 slope= 0.92692405 intercept= 96.91007 RSS= 11836.112\n",
      "Epoch: 14000 slope= 0.9308362 intercept= 96.70714 RSS= 11822.533\n",
      "Epoch: 15000 slope= 0.93465996 intercept= 96.50877 RSS= 11809.553\n",
      "Epoch: 16000 slope= 0.938386 intercept= 96.3155 RSS= 11797.186\n",
      "Epoch: 17000 slope= 0.94206274 intercept= 96.12476 RSS= 11785.244\n",
      "Epoch: 18000 slope= 0.94561267 intercept= 95.94062 RSS= 11773.973\n",
      "Epoch: 19000 slope= 0.9491423 intercept= 95.757515 RSS= 11763.009\n",
      "Epoch: 20000 slope= 0.9525274 intercept= 95.581924 RSS= 11752.725\n",
      "Epoch: 21000 slope= 0.9559066 intercept= 95.40664 RSS= 11742.685\n",
      "Epoch: 22000 slope= 0.9591421 intercept= 95.23879 RSS= 11733.282\n",
      "Epoch: 23000 slope= 0.9623776 intercept= 95.070946 RSS= 11724.084\n",
      "Epoch: 24000 slope= 0.9654699 intercept= 94.910545 RSS= 11715.486\n",
      "Epoch: 25000 slope= 0.9685583 intercept= 94.75033 RSS= 11707.088\n",
      "Epoch: 26000 slope= 0.97152513 intercept= 94.596436 RSS= 11699.199\n",
      "Epoch: 27000 slope= 0.9744665 intercept= 94.44385 RSS= 11691.546\n",
      "Epoch: 28000 slope= 0.97732383 intercept= 94.29564 RSS= 11684.278\n",
      "Epoch: 29000 slope= 0.9801181 intercept= 94.15068 RSS= 11677.322\n"
     ]
    }
   ],
   "source": [
    "for i in range(0,30000):\n",
    "    model.fit(x=x,y=y,batch_size=33,\n",
    "                    epochs=1,\n",
    "                    verbose = 0)\n",
    "    a,b=model.get_weights()\n",
    "    if i % 1000==0:\n",
    "        RSS=np.sum(np.square(model.predict(x).reshape(len(x),)-y))\n",
    "        print(\"Epoch:\",i,\"slope=\",a[0][0],\"intercept=\",b[0],\"RSS=\",RSS)"
   ]
  }
 ],
 "metadata": {
  "colab": {
   "collapsed_sections": [],
   "name": "LinearRegression.ipynb",
   "provenance": [],
   "version": "0.3.2"
  },
  "kernelspec": {
   "display_name": "Python 3",
   "language": "python",
   "name": "python3"
  },
  "language_info": {
   "codemirror_mode": {
    "name": "ipython",
    "version": 3
   },
   "file_extension": ".py",
   "mimetype": "text/x-python",
   "name": "python",
   "nbconvert_exporter": "python",
   "pygments_lexer": "ipython3",
   "version": "3.5.2"
  }
 },
 "nbformat": 4,
 "nbformat_minor": 1
}
